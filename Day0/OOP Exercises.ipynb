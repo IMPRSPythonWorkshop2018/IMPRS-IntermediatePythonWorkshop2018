{
 "cells": [
  {
   "cell_type": "markdown",
   "metadata": {},
   "source": [
    "# Object-Oriented Programming in Python"
   ]
  },
  {
   "cell_type": "markdown",
   "metadata": {},
   "source": [
    "**Classes** are collections of functions and data.  They act as an organization tool for code. Defining a class is done using the **class** keyword in Python:\n",
    "\n",
    "```python\n",
    "class Dog:\n",
    "    pass\n",
    "```\n",
    "\n",
    "If you want to attach data to the class, you can do it inside the code block.\n",
    "\n",
    "```python\n",
    "class Dog:\n",
    "    species = 'Canis lupus familiaris'\n",
    "    \n",
    ">>> Dog.species\n",
    "'Canis lupus familiaris'\n",
    "```\n",
    "\n",
    "If you want to give *specific* data to the class (perhaps each individual Dog has a name?), then you add that in the class construction function called \"__init__()':\n",
    "\n",
    "```python\n",
    "class Dog:\n",
    "    species = 'Canis lupus familiaris'\n",
    "    \n",
    "    def __init__(self, name):\n",
    "        self.name = name\n",
    "        \n",
    ">>> my_dog = Dog('Max')\n",
    ">>> my_dog.name\n",
    "'Max'\n",
    "```\n",
    "\n",
    "If you want to attach any functions to the class, you can do it with the **def** keyword inside the class code block.\n",
    "\n",
    "```python\n",
    "class Dog:\n",
    "    species = 'Canis lupus familiaris'\n",
    "    \n",
    "    def __init__(self, name):\n",
    "        self.name = name\n",
    "        \n",
    "    def speak(self):\n",
    "        print('My name is {}'.format(self.name))\n",
    "        \n",
    ">>> my_dog = Dog('Max')\n",
    ">>> my_dog.speak()\n",
    "'My name is Max'\n",
    "```\n",
    "\n",
    "If a function doesn't require any instance data (no **self** used in the function) nor any class data, then you can add the **@staticmethod** decorator to remove the need for putting \"self\" in the function definition:\n",
    "\n",
    "```python\n",
    "class Dog:\n",
    "    species = 'Canis lupus familiaris'\n",
    "    \n",
    "    def __init__(self, name):\n",
    "        self.name = name\n",
    "        \n",
    "    def speak(self):\n",
    "        print('My name is {}'.format(self.name))\n",
    "        \n",
    "    @staticmethod\n",
    "    def bark():\n",
    "        print('Woof!')\n",
    "        \n",
    ">>> my_dog = Dog('Max')\n",
    ">>> my_dog.bark()\n",
    "'Woof!'\n",
    "```\n",
    "\n",
    "Similarly, a **@classmethod** decorator exists if you only need the class attributes."
   ]
  },
  {
   "cell_type": "markdown",
   "metadata": {},
   "source": [
    "## Exercises\n",
    "Let's make a few classes in Python.\n"
   ]
  },
  {
   "cell_type": "markdown",
   "metadata": {},
   "source": [
    "**Exercise: a cardboard box**\n",
    "\n",
    "Make a Box class for shipping items.  It should have width, height, and depth attributes, and should be able to calculate its own volume (so we know how big the box is) and surface area (so we know how much cardboard is required to make it)."
   ]
  },
  {
   "cell_type": "code",
   "execution_count": null,
   "metadata": {},
   "outputs": [],
   "source": []
  },
  {
   "cell_type": "markdown",
   "metadata": {},
   "source": [
    "**Exercise: a DNA sequence**\n",
    "\n",
    "Make a class that takes a DNA sequence (a string consisting of G, C, A, and T letters) and calculates whether it is a valid sequence or not, as well as what the complimentary sequence is (the same sequence but swapping G's for C's and A's for T's)."
   ]
  },
  {
   "cell_type": "code",
   "execution_count": null,
   "metadata": {},
   "outputs": [],
   "source": []
  },
  {
   "cell_type": "markdown",
   "metadata": {},
   "source": [
    "**Exercise: a List**\n",
    "\n",
    "Make a class that can take a sequence and calculate the length of the sequence, return the n'th item in the sequence, and print the sequence like this: \"<Item1, Item2, Item3>\"."
   ]
  },
  {
   "cell_type": "code",
   "execution_count": null,
   "metadata": {},
   "outputs": [],
   "source": []
  }
 ],
 "metadata": {
  "kernelspec": {
   "display_name": "Python 3",
   "language": "python",
   "name": "python3"
  },
  "language_info": {
   "codemirror_mode": {
    "name": "ipython",
    "version": 3
   },
   "file_extension": ".py",
   "mimetype": "text/x-python",
   "name": "python",
   "nbconvert_exporter": "python",
   "pygments_lexer": "ipython3",
   "version": "3.6.5"
  }
 },
 "nbformat": 4,
 "nbformat_minor": 2
}
