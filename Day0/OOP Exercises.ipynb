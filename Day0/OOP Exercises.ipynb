{
 "cells": [
  {
   "cell_type": "markdown",
   "metadata": {},
   "source": [
    "# Object-Oriented Programming in Python"
   ]
  },
  {
   "cell_type": "markdown",
   "metadata": {},
   "source": [
    "**Classes** are collections of functions and data.  They act as an organization tool for code. Defining a class is done using the **class** keyword in Python:\n",
    "\n",
    "```python\n",
    "class Dog:\n",
    "    pass\n",
    "```\n",
    "\n",
    "If you want to attach data to the class, you can do it inside the code block.\n",
    "\n",
    "```python\n",
    "class Dog:\n",
    "    species = 'Canis lupus familiaris'\n",
    "    \n",
    ">>> Dog.species\n",
    "'Canis lupus familiaris'\n",
    "```\n",
    "\n",
    "If you want to give *specific* data to the class (perhaps each individual Dog has a name?), then you add that in the class construction function called \"__init__()':\n",
    "\n",
    "```python\n",
    "class Dog:\n",
    "    species = 'Canis lupus familiaris'\n",
    "    \n",
    "    def __init__(self, name):\n",
    "        self.name = name\n",
    "        \n",
    ">>> my_dog = Dog('Max')\n",
    ">>> my_dog.name\n",
    "'Max'\n",
    "```\n",
    "\n",
    "If you want to attach any functions to the class, you can do it with the **def** keyword inside the class code block.\n",
    "\n",
    "```python\n",
    "class Dog:\n",
    "    species = 'Canis lupus familiaris'\n",
    "    \n",
    "    def __init__(self, name):\n",
    "        self.name = name\n",
    "        \n",
    "    def speak(self):\n",
    "        print('My name is {}'.format(self.name))\n",
    "        \n",
    ">>> my_dog = Dog('Max')\n",
    ">>> my_dog.speak()\n",
    "'My name is Max'\n",
    "```\n",
    "\n",
    "If a function doesn't require any instance data (no **self** used in the function) nor any class data, then you can add the **@staticmethod** decorator to remove the need for putting \"self\" in the function definition:\n",
    "\n",
    "```python\n",
    "class Dog:\n",
    "    species = 'Canis lupus familiaris'\n",
    "    \n",
    "    def __init__(self, name):\n",
    "        self.name = name\n",
    "        \n",
    "    def speak(self):\n",
    "        print('My name is {}'.format(self.name))\n",
    "        \n",
    "    @staticmethod\n",
    "    def bark():\n",
    "        print('Woof!')\n",
    "        \n",
    ">>> my_dog = Dog('Max')\n",
    ">>> my_dog.bark()\n",
    "'Woof!'\n",
    "```\n",
    "\n",
    "Similarly, a **@classmethod** decorator exists if you only need the class attributes."
   ]
  },
  {
   "cell_type": "markdown",
   "metadata": {},
   "source": [
    "## Exercises\n",
    "Let's make a few classes in Python.\n"
   ]
  },
  {
   "cell_type": "markdown",
   "metadata": {},
   "source": [
    "**Exercise: a cardboard box**\n",
    "\n",
    "Make a Box class for shipping items.  It should have width, height, and depth attributes, and should be able to calculate its own volume (so we know how big the box is) and surface area (so we know how much cardboard is required to make it)."
   ]
  },
  {
   "cell_type": "code",
   "execution_count": 19,
   "metadata": {},
   "outputs": [
    {
     "data": {
      "text/plain": [
       "120"
      ]
     },
     "execution_count": 19,
     "metadata": {},
     "output_type": "execute_result"
    }
   ],
   "source": [
    "import math\n",
    "math.depth = 1\n",
    "math.width = 20\n",
    "math.height = 60\n",
    "\n",
    "def calculate_volume(math):\n",
    "    # new var: math\n",
    "#     return math.depth * math.width * math.height\n",
    "    return math.volume\n",
    "\n",
    "calculate_volume(math)"
   ]
  },
  {
   "cell_type": "code",
   "execution_count": 20,
   "metadata": {},
   "outputs": [
    {
     "data": {
      "text/plain": [
       "22"
      ]
     },
     "execution_count": 20,
     "metadata": {},
     "output_type": "execute_result"
    }
   ],
   "source": [
    "class Box:\n",
    "    count = 0\n",
    "#     material = 'cardboard'\n",
    "    \n",
    "    def __init__(self, depth, height, width, material='cardboard'):\n",
    "        self.depth = depth\n",
    "        self.height = height\n",
    "        self.width = width\n",
    "        self.material = material\n",
    "        Box.count += 1\n",
    "        \n",
    "    @property    \n",
    "    def volume(self):\n",
    "        return self.depth * self.height * self.width\n",
    "    \n",
    "    @property\n",
    "    def surface_area(self):\n",
    "        side1 = self.width * self.height * 2\n",
    "        side2 = self.height * self.depth * 2\n",
    "        side3 = self.depth * self.width * 2\n",
    "        return side1 + side2 + side3\n",
    "\n",
    "box = Box(depth=3, height=2, width=1)\n",
    "box.depth\n",
    "box.height\n",
    "box.width\n",
    "box.volume  # depth, height, width\n",
    "box.surface_area  # depth, height, width\n",
    "# box.material"
   ]
  },
  {
   "cell_type": "markdown",
   "metadata": {},
   "source": [
    "**Exercise: a DNA sequence**\n",
    "\n",
    "Make a class that takes a DNA sequence (a string consisting of G, C, A, and T letters) and calculates whether it is a valid sequence or not, as well as what the complimentary sequence is (the same sequence but swapping G's for C's and A's for T's)."
   ]
  },
  {
   "cell_type": "code",
   "execution_count": 53,
   "metadata": {},
   "outputs": [
    {
     "name": "stdout",
     "output_type": "stream",
     "text": [
      "1\n",
      "2\n",
      "3\n"
     ]
    },
    {
     "data": {
      "text/plain": [
       "True"
      ]
     },
     "execution_count": 53,
     "metadata": {},
     "output_type": "execute_result"
    }
   ],
   "source": [
    "def generate_is_good(sequence):\n",
    "    for nucleotide in sequence:\n",
    "        yield nucleotide.upper() in 'GCAT'\n",
    "        \n",
    "are_good = generate_is_good('GBT')\n",
    "def print_is_good(are_good):\n",
    "    for is_good in are_good:\n",
    "        print(is_good)\n",
    "print_is_good([1, 2, 3])\n",
    "any(are_good)"
   ]
  },
  {
   "cell_type": "code",
   "execution_count": 62,
   "metadata": {},
   "outputs": [
    {
     "data": {
      "text/plain": [
       "['A', 'G', 'C', 'A', 'D', 'F', 'A']"
      ]
     },
     "execution_count": 62,
     "metadata": {},
     "output_type": "execute_result"
    }
   ],
   "source": [
    "aa = 'AGCADFA'\n",
    "ll = list(aa)\n",
    "ll"
   ]
  },
  {
   "cell_type": "code",
   "execution_count": 67,
   "metadata": {},
   "outputs": [
    {
     "data": {
      "text/plain": [
       "'AGCADFA'"
      ]
     },
     "execution_count": 67,
     "metadata": {},
     "output_type": "execute_result"
    }
   ],
   "source": [
    "''.join(ll)"
   ]
  },
  {
   "cell_type": "code",
   "execution_count": 101,
   "metadata": {},
   "outputs": [],
   "source": [
    "dna = DNA('ACT')\n",
    "# dir(dna)"
   ]
  },
  {
   "cell_type": "code",
   "execution_count": 103,
   "metadata": {},
   "outputs": [],
   "source": [
    "complimentary_nucleotides = {'A': 'T', 'T': 'A', 'C': 'G', 'G': 'C'}\n",
    "\n",
    "class DNA:\n",
    "    def __init__(self, sequence: str):\n",
    "        self.sequence = sequence\n",
    "        if not self._check_validity():\n",
    "            raise ValueError(\"Bad sequence. Sequences must only contain G, C, A, and T\")\n",
    "            \n",
    "    def __eq__(self, other):\n",
    "        return True if str(self) == str(other) else False\n",
    "    \n",
    "    def __str__(self):\n",
    "        return self.sequence\n",
    "    \n",
    "    def __repr__(self):\n",
    "        return \"DNA(sequence='{}')\".format(self.sequence)\n",
    "            \n",
    "    def _check_validity(self):\n",
    "        are_good = (nucleotide.upper() in 'GCAT' for nucleotide in self.sequence)\n",
    "        return True if all(are_good) else False\n",
    "\n",
    "    @property\n",
    "    def complimentary_sequence(self):\n",
    "        return DNA(''.join(complimentary_nucleotides[nt.upper()] for nt in self.sequence))\n",
    "        \n",
    "        \n",
    "        \n",
    "try:\n",
    "    assert DNA('ATB')\n",
    "except ValueError:\n",
    "    pass\n",
    "assert DNA('GTC').complimentary_sequence == DNA('CAG')\n",
    "assert DNA('ATC').complimentary_sequence == DNA('TAG')\n",
    "assert DNA('ATC').complimentary_sequence == 'TAG'\n",
    "\n",
    "\n"
   ]
  },
  {
   "cell_type": "markdown",
   "metadata": {},
   "source": [
    "**Exercise: a List**\n",
    "\n",
    "Make a class that can take a sequence and calculate the length of the sequence, return the n'th item in the sequence, and print the sequence like this: \"<Item1, Item2, Item3>\"."
   ]
  },
  {
   "cell_type": "code",
   "execution_count": 118,
   "metadata": {},
   "outputs": [
    {
     "data": {
      "text/plain": [
       "<1, 2, 3>"
      ]
     },
     "execution_count": 118,
     "metadata": {},
     "output_type": "execute_result"
    }
   ],
   "source": [
    "List(['1', '2', '3'])"
   ]
  },
  {
   "cell_type": "code",
   "execution_count": 117,
   "metadata": {},
   "outputs": [],
   "source": [
    "class List:\n",
    "    def __init__(self, seq):\n",
    "        self.seq = seq\n",
    "        \n",
    "    def __str__(self):\n",
    "        return \"<\" + \", \".join(str(el) for el in self.seq) + \">\"\n",
    "    \n",
    "    def __repr__(self):\n",
    "        return str(self)\n",
    "    \n",
    "    def __getitem__(self, index):\n",
    "        return self.seq[index]\n",
    "\n",
    "my_list = List([1, 2, 3])\n",
    "assert str(my_list) == \"<1, 2, 3>\"\n",
    "assert my_list[1] == 2\n",
    "assert my_list[1:] == [2, 3]\n",
    "assert my_list[10]"
   ]
  }
 ],
 "metadata": {
  "kernelspec": {
   "display_name": "Python 3",
   "language": "python",
   "name": "python3"
  },
  "language_info": {
   "codemirror_mode": {
    "name": "ipython",
    "version": 3
   },
   "file_extension": ".py",
   "mimetype": "text/x-python",
   "name": "python",
   "nbconvert_exporter": "python",
   "pygments_lexer": "ipython3",
   "version": "3.6.5"
  }
 },
 "nbformat": 4,
 "nbformat_minor": 2
}
